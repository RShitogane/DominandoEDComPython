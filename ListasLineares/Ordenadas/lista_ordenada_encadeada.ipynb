{
 "cells": [
  {
   "cell_type": "markdown",
   "metadata": {},
   "source": [
    "# Implementação de uma lista ordenada encadeada"
   ]
  },
  {
   "cell_type": "markdown",
   "metadata": {},
   "source": [
    "# O Nó da lista"
   ]
  },
  {
   "cell_type": "code",
   "execution_count": 1,
   "metadata": {},
   "outputs": [],
   "source": [
    "class Node:\n",
    "    def __init__(self, qtd, preco, descricao):\n",
    "        self.qtd = qtd\n",
    "        self.preco = preco\n",
    "        self.descricao = descricao\n",
    "        self.next = None"
   ]
  },
  {
   "cell_type": "markdown",
   "metadata": {},
   "source": [
    "# Construção da lista\n",
    "\n",
    "Estrutura da lista:\n",
    "Operações básica:\n",
    "- insert\n",
    "- search\n",
    "- remove\n",
    "\n",
    "Operações complementares:\n",
    "- is_empty\n",
    "- display"
   ]
  },
  {
   "cell_type": "code",
   "execution_count": 2,
   "metadata": {},
   "outputs": [],
   "source": [
    "class OrdenedList:\n",
    "    def __init__(self):\n",
    "        self.head = None\n",
    "\n",
    "    # Consulta se a lista está vazia\n",
    "    def is_empty(self):\n",
    "        return self.head is None\n",
    "    \n",
    "    # Inserção de elementos na lista\n",
    "    def insert(self, qtd, preco, descricao):\n",
    "        new_node = Node(qtd, preco, descricao)\n",
    "\n",
    "        # Inserir com base na ordem alfabética da descrição\n",
    "        if self.is_empty() or descricao < self.head.descricao:\n",
    "            new_node.next = self.head \n",
    "            self.head = new_node\n",
    "        else:\n",
    "            current = self.head\n",
    "            while current.next is not None and current.next.descricao < descricao:\n",
    "                current = current.next\n",
    "            new_node.next = current.next\n",
    "            current.next = new_node\n",
    "\n",
    "    # Busca de elemento com base na descrição\n",
    "    def search(self, descricao):\n",
    "        current = self.head\n",
    "        while current is not None:\n",
    "            if current.descricao == descricao:\n",
    "                return current\n",
    "            current = current.next\n",
    "        return None\n",
    "    \n",
    "    # Remoção com base na descrição\n",
    "    def remove(self, descricao):\n",
    "        if self.is_empty():\n",
    "            return None\n",
    "    \n",
    "        # Se o nó a ser removido é o primeiro nó\n",
    "        if self.head.descricao == descricao:\n",
    "            removed_node = self.head\n",
    "            self.head = self.head.next\n",
    "            return removed_node\n",
    "        \n",
    "        current = self.head\n",
    "        # Procurar o nó com a descrição especificada\n",
    "        while current.next is not None and current.next.descricao != descricao:\n",
    "            current = current.next\n",
    "        \n",
    "        if current.next is None:\n",
    "            return None\n",
    "        \n",
    "        # Remover o nó com a descrição especificada\n",
    "        removed_node = current.next\n",
    "        current.next = current.next.next\n",
    "        return removed_node\n",
    "\n",
    "    # Exibição da lista - Display\n",
    "    def display(self):\n",
    "        if self.is_empty():\n",
    "            print(\"A lista ordenada está vazia!\")\n",
    "        else:\n",
    "            current = self.head\n",
    "            while current:\n",
    "                print(f\"Qtd: {current.qtd}, Preço: {current.preco}, Descrição: {current.descricao}\")\n",
    "                current = current.next"
   ]
  },
  {
   "cell_type": "code",
   "execution_count": 22,
   "metadata": {},
   "outputs": [
    {
     "name": "stdout",
     "output_type": "stream",
     "text": [
      "Exibindo a lista após inserções ordenadas por descrição:\n",
      "Qtd: 10, Preço: 18.0, Descrição: arroz\n",
      "Qtd: 30, Preço: 12.0, Descrição: banana\n",
      "Qtd: 100, Preço: 15.0, Descrição: oleo\n"
     ]
    }
   ],
   "source": [
    " # Criando uma lista ordenada\n",
    "ol = OrdenedList()\n",
    "\n",
    "# Inserindo elementos na lista com base na descrição\n",
    "ol.insert(10, 18.0, \"arroz\")\n",
    "ol.insert(30, 12.0, \"banana\")\n",
    "ol.insert(100, 15.0, \"oleo\")\n",
    "\n",
    "print(\"Exibindo a lista após inserções ordenadas por descrição:\")\n",
    "ol.display()"
   ]
  },
  {
   "cell_type": "code",
   "execution_count": 23,
   "metadata": {},
   "outputs": [
    {
     "name": "stdout",
     "output_type": "stream",
     "text": [
      "\n",
      "Busca por 'arroz':\n",
      "Encontrado - Qtd: 10, Preço: 18.0, Descrição: arroz\n",
      "\n",
      "Removendo 'arroz' da lista\n",
      "\n",
      "Exibindo a lista após a remoção de 'arroz':\n",
      "Qtd: 30, Preço: 12.0, Descrição: banana\n",
      "Qtd: 100, Preço: 15.0, Descrição: oleo\n"
     ]
    }
   ],
   "source": [
    "#caso de item não encontrado\n",
    "#print(\"\\nBusca por 'beriligela':\")\n",
    "# busca = ol.search(\"beriligela\")\n",
    "\n",
    "# Buscando elementos com base na descrição\n",
    "print(\"\\nBusca por 'arroz':\")\n",
    "busca = ol.search(\"arroz\")\n",
    "if busca:\n",
    "    print(f\"Encontrado - Qtd: {busca.qtd}, Preço: {busca.preco}, Descrição: {busca.descricao}\")\n",
    "else:\n",
    "    print(\"Não encontrado\")\n",
    "\n",
    "    # Removendo elementos com base na descrição\n",
    "print(\"\\nRemovendo 'arroz' da lista\")\n",
    "ol.remove(\"arroz\")\n",
    "\n",
    "print(\"\\nExibindo a lista após a remoção de 'arroz':\")\n",
    "ol.display()\n",
    "\n"
   ]
  }
 ],
 "metadata": {
  "kernelspec": {
   "display_name": "ri",
   "language": "python",
   "name": "python3"
  },
  "language_info": {
   "codemirror_mode": {
    "name": "ipython",
    "version": 3
   },
   "file_extension": ".py",
   "mimetype": "text/x-python",
   "name": "python",
   "nbconvert_exporter": "python",
   "pygments_lexer": "ipython3",
   "version": "3.12.1"
  }
 },
 "nbformat": 4,
 "nbformat_minor": 2
}
