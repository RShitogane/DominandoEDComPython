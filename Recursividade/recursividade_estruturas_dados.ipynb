{
 "cells": [
  {
   "cell_type": "markdown",
   "metadata": {},
   "source": [
    "# Aplicação de Recursividade em Estruturas Encadeadas"
   ]
  },
  {
   "cell_type": "code",
   "execution_count": 46,
   "metadata": {},
   "outputs": [],
   "source": [
    "# Nó de uma lista\n",
    "\n",
    "class Node: \n",
    "    def __init__(self, qtd, preco, descricao):\n",
    "        self.qtd = qtd\n",
    "        self.preco = preco\n",
    "        self.descricao = descricao\n",
    "        self.next = None\n",
    "        "
   ]
  },
  {
   "cell_type": "code",
   "execution_count": 47,
   "metadata": {},
   "outputs": [],
   "source": [
    "# Criação da lista\n",
    "class LinkedList:\n",
    "    def __init__(self):\n",
    "        self.head = None\n",
    "    \n",
    "    # Inserção de elementos\n",
    "    def inserir_no_inicio(self, qtd, preco, descricao):\n",
    "        new_node = Node(qtd, preco, descricao)\n",
    "        new_node.next = self.head\n",
    "        self.head = new_node\n",
    "\n",
    "    def inserir_no_final(self, qtd, preco, descricao):\n",
    "        new_node = Node(qtd, preco, descricao)\n",
    "        if self.head is None:\n",
    "            self.head = new_node\n",
    "            return\n",
    "        last = self.head\n",
    "        while(last.next):\n",
    "            last = last.next\n",
    "        last.next = new_node\n",
    "    def inserir_em_posicao(self, qtd, preco, descricao, posicao):\n",
    "        new_node = Node(qtd, preco, descricao)\n",
    "        if posicao == 0:\n",
    "            new_node.next = self.head\n",
    "            self.head = new_node\n",
    "            return \n",
    "        else:\n",
    "            no_corrente = self.head\n",
    "            for i in range(posicao-1):\n",
    "                if no_corrente is None:\n",
    "                    print(\"Posição inválida\")\n",
    "                    return\n",
    "                no_corrente = no_corrente.next\n",
    "\n",
    "            if no_corrente is None:\n",
    "                print(\"Posição inválida\")\n",
    "                return\n",
    "            \n",
    "            new_node.next = no_corrente.next\n",
    "            no_corrente.next = new_node\n",
    "\n",
    "    # Remoção de elementos\n",
    "    def remover_no_inicio(self):\n",
    "        if self.head is None:\n",
    "            print(\"Lista está vazia\")\n",
    "            return\n",
    "        self.head = self.head.next\n",
    "\n",
    "    def remover_de_posicao(self, posicao):\n",
    "        if self.head is None:\n",
    "            print(\"Lista está vazia\")\n",
    "            return\n",
    "        if posicao == 0:\n",
    "            self.head = self.head.next\n",
    "            return\n",
    "        no_corrente = self.head\n",
    "        for i in range(posicao-1):\n",
    "            if no_corrente is None:\n",
    "                print(\"Posição inválida\")\n",
    "                return\n",
    "            no_corrente = no_corrente.next\n",
    "        \n",
    "        no_corrente.next = no_corrente.next.next\n",
    "\n",
    "    def remover_no_final(self):\n",
    "        if self.head is None:\n",
    "            print(\"Lista está vazia\")\n",
    "            return\n",
    "        if self.head.next is None:\n",
    "            self.head = None\n",
    "            return\n",
    "        last = self.head\n",
    "        while(last.next.next):\n",
    "            last = last.next\n",
    "        last.next = None\n",
    "\n",
    "    # Acesso aos elementos da lsita encadeada em uma posição específica\n",
    "    def acessar_por_posicao(self, posicao):\n",
    "        if self.head is None:\n",
    "            print(\"Lista está vazia\")\n",
    "            return\n",
    "        no_corrente = self.head\n",
    "        for i in range(posicao):\n",
    "            if no_corrente is None:\n",
    "                print(\"Posição inválida\")\n",
    "                return\n",
    "            no_corrente = no_corrente.next\n",
    "        if no_corrente is None:\n",
    "            print(\"Posição inválida\")\n",
    "            return\n",
    "        # return f\"Quantidade: {no_corrente.qtd} Preço: {no_corrente.preco} Descrição: {no_corrente.descricao}\"\n",
    "        return no_corrente.qtd, no_corrente.preco, no_corrente.descricao\n",
    "\n",
    "    def exibir_lista(self):\n",
    "        no_corrente = self.head\n",
    "        while(no_corrente):\n",
    "            print(f\"Quantidade: {no_corrente.qtd} Preço: {no_corrente.preco} Descrição: {no_corrente.descricao}\")\n",
    "            no_corrente = no_corrente.next\n",
    "\n",
    "    def buscar_posicao_elemento(self, qtd, preco, descricao):\n",
    "        no_corrente = self.head\n",
    "        posicao = 0\n",
    "        while(no_corrente):\n",
    "            # if no_corrente.qtd == qtd and no_corrente.preco == preco and no_corrente.descricao == descricao:\n",
    "            if (no_corrente.qtd, no_corrente.preco, no_corrente.descricao) == (qtd, preco, descricao):\n",
    "                return posicao\n",
    "            no_corrente = no_corrente.next\n",
    "            posicao += 1\n",
    "        return -1\n",
    "    \n",
    "    def atualizar_elemento_por_posicao(self, posicao, new_qtd, new_preco, new_descricao):\n",
    "        if self.head is None:\n",
    "            print(\"Lista está vazia\")\n",
    "            return\n",
    "        no_corrente = self.head\n",
    "        for i in range(posicao):\n",
    "            if no_corrente is None:\n",
    "                print(\"Posição inválida\")\n",
    "                return\n",
    "            no_corrente = no_corrente.next\n",
    "            no_corrente.qtd = new_qtd\n",
    "            no_corrente.preco = new_preco\n",
    "            no_corrente.descricao = new_descricao\n",
    "            "
   ]
  },
  {
   "cell_type": "markdown",
   "metadata": {},
   "source": [
    "## Percorrer uma lista de forma recursiva"
   ]
  },
  {
   "cell_type": "code",
   "execution_count": 49,
   "metadata": {},
   "outputs": [],
   "source": [
    "class LinkedList(LinkedList):\n",
    "    def percorrer_lista_encadeada(self, node):\n",
    "        if node is None:\n",
    "            return  # Base da recursão: chegou ao fim da lista\n",
    "        print(node.descricao)  # Processa o valor do nó atual\n",
    "        self.percorrer_lista_encadeada(node.next)  # Recursão: move para o próximo nó"
   ]
  },
  {
   "cell_type": "code",
   "execution_count": 52,
   "metadata": {},
   "outputs": [
    {
     "name": "stdout",
     "output_type": "stream",
     "text": [
      "Produto A\n",
      "Produto B\n",
      "Produto C\n",
      "Produto D\n"
     ]
    }
   ],
   "source": [
    "lista_produtos = LinkedList()\n",
    "lista_produtos.inserir_no_final(2, 10.50, \"Produto A\")\n",
    "lista_produtos.inserir_no_final(1, 25.00, \"Produto B\")\n",
    "lista_produtos.inserir_no_final(4, 5.75, \"Produto C\")\n",
    "lista_produtos.inserir_no_final(2, 7.80, \"Produto D\")\n",
    "\n",
    "lista_produtos.percorrer_lista_encadeada(lista_produtos.head)"
   ]
  },
  {
   "cell_type": "markdown",
   "metadata": {},
   "source": [
    "# Soma de valores da lista: preço total"
   ]
  },
  {
   "cell_type": "code",
   "execution_count": 60,
   "metadata": {},
   "outputs": [],
   "source": [
    "class LinkedList(LinkedList):\n",
    "\tdef soma_preco_total(self):\n",
    "\t\t\"\"\"Função pública que inicia a recursão.\"\"\"\n",
    "\t\treturn self._soma_precos_recursivo(self.head)\n",
    "\n",
    "\tdef _soma_precos_recursivo(self, node):\n",
    "\t\t\"\"\"Função auxiliar recursiva para calcular o total.\"\"\"\n",
    "\t\tif node is None:\n",
    "\t\t\treturn 0\n",
    "\t\t\n",
    "\t\t# Print Statement para depuração\n",
    "\t\tprint(f\"Calculando preço para {node.descricao}\")\n",
    "\n",
    "\t\tparcial = node.qtd * node.preco\n",
    "\t\t# Print Statement para depuração\n",
    "\t\tprint(f\"Preço total do item {node.descricao}: Qtd: {node.qtd} x p.Un {node.preco} = {parcial}\")\n",
    "\t\treturn parcial + self._soma_precos_recursivo(node.next)"
   ]
  },
  {
   "cell_type": "code",
   "execution_count": 61,
   "metadata": {},
   "outputs": [
    {
     "name": "stdout",
     "output_type": "stream",
     "text": [
      "Calculando preço para Produto A\n",
      "Preço total do item Produto A: Qtd: 2 x p.Un 10.5 = 21.0\n",
      "Calculando preço para Produto B\n",
      "Preço total do item Produto B: Qtd: 1 x p.Un 25.0 = 25.0\n",
      "Calculando preço para Produto C\n",
      "Preço total do item Produto C: Qtd: 4 x p.Un 5.75 = 23.0\n",
      "Calculando preço para Produto D\n",
      "Preço total do item Produto D: Qtd: 1 x p.Un 7.8 = 7.8\n",
      "Calculando preço para Produto E\n",
      "Preço total do item Produto E: Qtd: 10 x p.Un 23.75 = 237.5\n"
     ]
    },
    {
     "data": {
      "text/plain": [
       "314.3"
      ]
     },
     "execution_count": 61,
     "metadata": {},
     "output_type": "execute_result"
    }
   ],
   "source": [
    "lista_produtos = LinkedList()\n",
    "lista_produtos.inserir_no_final(2, 10.50, \"Produto A\")\n",
    "lista_produtos.inserir_no_final(1, 25.00, \"Produto B\")\n",
    "lista_produtos.inserir_no_final(4, 5.75, \"Produto C\")\n",
    "lista_produtos.inserir_no_final(1, 7.80, \"Produto D\")\n",
    "lista_produtos.inserir_no_final(10, 23.75, \"Produto E\")\n",
    "\n",
    "lista_produtos.soma_preco_total()"
   ]
  },
  {
   "cell_type": "markdown",
   "metadata": {},
   "source": [
    "# Buscar o preço máximo"
   ]
  },
  {
   "cell_type": "code",
   "execution_count": 62,
   "metadata": {},
   "outputs": [],
   "source": [
    "class LinkedList(LinkedList):\n",
    "    def preco_mais_alto(self):\n",
    "        \"\"\"\n",
    "        Função pública que inicia a recursão para encontrar o preço mais alto.\n",
    "        \"\"\"\n",
    "        return self._preco_mais_alto_recursivo(self.head)\n",
    "\n",
    "    def _preco_mais_alto_recursivo(self, node=None):\n",
    "        \"\"\"\n",
    "        Encontra o preço mais alto entre os produtos na lista de forma recursiva.\n",
    "        \"\"\"\n",
    "        if node is None:\n",
    "            node = self.head  # Inicia a recursão no primeiro nó\n",
    "        \n",
    "        if node is None:  # Caso base: a lista está vazia\n",
    "            return float('-inf')  # Retorna infinito negativo para representar lista vazia\n",
    "        elif node.next is None:  # Caso base: último nó da lista\n",
    "            return node.preco\n",
    "        else:\n",
    "            # Passo recursivo\n",
    "            return max(node.preco, self._preco_mais_alto_recursivo(node.next))"
   ]
  },
  {
   "cell_type": "code",
   "execution_count": 64,
   "metadata": {},
   "outputs": [
    {
     "name": "stdout",
     "output_type": "stream",
     "text": [
      "A lista está vazia.\n"
     ]
    }
   ],
   "source": [
    "# Exemplo de uso\n",
    "lista_produtos = LinkedList()\n",
    "lista_produtos.inserir_no_final(2, 10.50, \"Produto A\")\n",
    "lista_produtos.inserir_no_final(1, 25.00, \"Produto B\")\n",
    "lista_produtos.inserir_no_final(4, 5.75, \"Produto C\")\n",
    "lista_produtos.inserir_no_final(1, 7.80, \"Produto D\")\n",
    "lista_produtos.inserir_no_final(10, 23.75, \"Produto E\")\n",
    "\n",
    "\n",
    "preco_max = lista_produtos.preco_mais_alto()\n",
    "if preco_max != float('-inf'):\n",
    "    print(f\"Preço mais alto entre os produtos: {preco_max}\")\n",
    "else:\n",
    "    print(\"A lista está vazia.\")"
   ]
  },
  {
   "cell_type": "code",
   "execution_count": null,
   "metadata": {},
   "outputs": [],
   "source": []
  }
 ],
 "metadata": {
  "kernelspec": {
   "display_name": "gpuTorch",
   "language": "python",
   "name": "python3"
  },
  "language_info": {
   "codemirror_mode": {
    "name": "ipython",
    "version": 3
   },
   "file_extension": ".py",
   "mimetype": "text/x-python",
   "name": "python",
   "nbconvert_exporter": "python",
   "pygments_lexer": "ipython3",
   "version": "3.11.5"
  }
 },
 "nbformat": 4,
 "nbformat_minor": 2
}
